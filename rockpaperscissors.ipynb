{
 "cells": [
  {
   "cell_type": "code",
   "execution_count": null,
   "metadata": {},
   "outputs": [
    {
     "name": "stdout",
     "output_type": "stream",
     "text": [
      "Player wins:  rock wins scissors\n",
      "Player wins:  paper wins rock\n",
      "Tie\n",
      "invalid input\n",
      "Player loses:  rock loses paper\n",
      "Player wins:  paper wins rock\n",
      "Tie\n",
      "Player loses:  scissors loses rock\n",
      "Player wins:  scissors wins paper\n"
     ]
    }
   ],
   "source": [
    "import numpy as np\n",
    "choices = [\"rock\", \"paper\", \"scissors\"]\n",
    "comp = np.random.choice(choices)\n",
    "player = False\n",
    "while player == False:\n",
    "    player = input(\"rock, paper, scissors?\")\n",
    "    if player in choices:\n",
    "        if player == comp:\n",
    "            print(\"Tie\")\n",
    "        elif choices.index(player) == (choices.index(comp) + 1) % 3:\n",
    "            print(\"Player wins: \", player, \"wins\", comp)\n",
    "        else:\n",
    "            print(\"Player loses: \", player, \"loses\", comp)\n",
    "    else:\n",
    "        print(\"invalid input\")\n",
    "    player = False\n",
    "    comp = np.random.choice(choices)"
   ]
  },
  {
   "cell_type": "code",
   "execution_count": null,
   "metadata": {},
   "outputs": [],
   "source": []
  }
 ],
 "metadata": {
  "kernelspec": {
   "display_name": "Python 3",
   "language": "python",
   "name": "python3"
  },
  "language_info": {
   "codemirror_mode": {
    "name": "ipython",
    "version": 3
   },
   "file_extension": ".py",
   "mimetype": "text/x-python",
   "name": "python",
   "nbconvert_exporter": "python",
   "pygments_lexer": "ipython3",
   "version": "3.6.8"
  }
 },
 "nbformat": 4,
 "nbformat_minor": 2
}
